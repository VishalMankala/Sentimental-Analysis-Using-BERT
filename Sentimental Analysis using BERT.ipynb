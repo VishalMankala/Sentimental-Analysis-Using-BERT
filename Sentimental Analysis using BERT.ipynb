{
 "cells": [
  {
   "cell_type": "code",
   "execution_count": 1,
   "id": "cfb4c150",
   "metadata": {},
   "outputs": [
    {
     "name": "stdout",
     "output_type": "stream",
     "text": [
      "Looking in indexes: https://download.pytorch.org/whl/cu124\n",
      "Requirement already satisfied: torch in c:\\users\\chinn\\anaconda3\\lib\\site-packages (2.4.1+cu124)\n",
      "Requirement already satisfied: torchvision in c:\\users\\chinn\\anaconda3\\lib\\site-packages (0.19.1+cu124)\n",
      "Requirement already satisfied: torchaudio in c:\\users\\chinn\\anaconda3\\lib\\site-packages (2.4.1+cu124)\n",
      "Requirement already satisfied: filelock in c:\\users\\chinn\\anaconda3\\lib\\site-packages (from torch) (3.15.4)\n",
      "Requirement already satisfied: typing-extensions>=4.8.0 in c:\\users\\chinn\\anaconda3\\lib\\site-packages (from torch) (4.12.2)\n",
      "Requirement already satisfied: sympy in c:\\users\\chinn\\anaconda3\\lib\\site-packages (from torch) (1.9)\n",
      "Requirement already satisfied: networkx in c:\\users\\chinn\\anaconda3\\lib\\site-packages (from torch) (2.6.3)\n",
      "Requirement already satisfied: jinja2 in c:\\users\\chinn\\anaconda3\\lib\\site-packages (from torch) (2.11.3)\n",
      "Requirement already satisfied: fsspec in c:\\users\\chinn\\anaconda3\\lib\\site-packages (from torch) (2024.6.1)\n",
      "Requirement already satisfied: numpy in c:\\users\\chinn\\anaconda3\\lib\\site-packages (from torchvision) (1.20.3)\n",
      "Requirement already satisfied: pillow!=8.3.*,>=5.3.0 in c:\\users\\chinn\\anaconda3\\lib\\site-packages (from torchvision) (8.4.0)\n",
      "Requirement already satisfied: MarkupSafe>=0.23 in c:\\users\\chinn\\anaconda3\\lib\\site-packages (from jinja2->torch) (2.0.1)\n",
      "Requirement already satisfied: mpmath>=0.19 in c:\\users\\chinn\\anaconda3\\lib\\site-packages (from sympy->torch) (1.2.1)\n"
     ]
    }
   ],
   "source": [
    "!pip install torch torchvision torchaudio --index-url https://download.pytorch.org/whl/cu124"
   ]
  },
  {
   "cell_type": "code",
   "execution_count": 2,
   "id": "20f819a9",
   "metadata": {},
   "outputs": [
    {
     "name": "stdout",
     "output_type": "stream",
     "text": [
      "Requirement already satisfied: transformers in c:\\users\\chinn\\anaconda3\\lib\\site-packages (4.45.1)\n",
      "Requirement already satisfied: requests in c:\\users\\chinn\\anaconda3\\lib\\site-packages (2.32.3)\n",
      "Requirement already satisfied: beautifulsoup4 in c:\\users\\chinn\\anaconda3\\lib\\site-packages (4.10.0)\n",
      "Requirement already satisfied: pandas in c:\\users\\chinn\\anaconda3\\lib\\site-packages (1.3.4)\n",
      "Requirement already satisfied: numpy in c:\\users\\chinn\\anaconda3\\lib\\site-packages (1.20.3)\n",
      "Requirement already satisfied: filelock in c:\\users\\chinn\\anaconda3\\lib\\site-packages (from transformers) (3.15.4)\n",
      "Requirement already satisfied: huggingface-hub<1.0,>=0.23.2 in c:\\users\\chinn\\anaconda3\\lib\\site-packages (from transformers) (0.25.1)\n",
      "Requirement already satisfied: packaging>=20.0 in c:\\users\\chinn\\anaconda3\\lib\\site-packages (from transformers) (23.2)\n",
      "Requirement already satisfied: pyyaml>=5.1 in c:\\users\\chinn\\anaconda3\\lib\\site-packages (from transformers) (6.0)\n",
      "Requirement already satisfied: regex!=2019.12.17 in c:\\users\\chinn\\anaconda3\\lib\\site-packages (from transformers) (2021.8.3)\n",
      "Requirement already satisfied: safetensors>=0.4.1 in c:\\users\\chinn\\anaconda3\\lib\\site-packages (from transformers) (0.4.3)\n",
      "Requirement already satisfied: tokenizers<0.21,>=0.20 in c:\\users\\chinn\\anaconda3\\lib\\site-packages (from transformers) (0.20.0)\n",
      "Requirement already satisfied: tqdm>=4.27 in c:\\users\\chinn\\anaconda3\\lib\\site-packages (from transformers) (4.62.3)\n",
      "Requirement already satisfied: charset-normalizer<4,>=2 in c:\\users\\chinn\\anaconda3\\lib\\site-packages (from requests) (2.0.4)\n",
      "Requirement already satisfied: idna<4,>=2.5 in c:\\users\\chinn\\anaconda3\\lib\\site-packages (from requests) (3.2)\n",
      "Requirement already satisfied: urllib3<3,>=1.21.1 in c:\\users\\chinn\\anaconda3\\lib\\site-packages (from requests) (1.26.19)\n",
      "Requirement already satisfied: certifi>=2017.4.17 in c:\\users\\chinn\\anaconda3\\lib\\site-packages (from requests) (2021.10.8)\n",
      "Requirement already satisfied: soupsieve>1.2 in c:\\users\\chinn\\anaconda3\\lib\\site-packages (from beautifulsoup4) (2.2.1)\n",
      "Requirement already satisfied: python-dateutil>=2.7.3 in c:\\users\\chinn\\anaconda3\\lib\\site-packages (from pandas) (2.8.2)\n",
      "Requirement already satisfied: pytz>=2017.3 in c:\\users\\chinn\\anaconda3\\lib\\site-packages (from pandas) (2021.3)\n",
      "Requirement already satisfied: fsspec>=2023.5.0 in c:\\users\\chinn\\anaconda3\\lib\\site-packages (from huggingface-hub<1.0,>=0.23.2->transformers) (2024.6.1)\n",
      "Requirement already satisfied: typing-extensions>=3.7.4.3 in c:\\users\\chinn\\anaconda3\\lib\\site-packages (from huggingface-hub<1.0,>=0.23.2->transformers) (4.12.2)\n",
      "Requirement already satisfied: six>=1.5 in c:\\users\\chinn\\anaconda3\\lib\\site-packages (from python-dateutil>=2.7.3->pandas) (1.16.0)\n",
      "Requirement already satisfied: colorama in c:\\users\\chinn\\anaconda3\\lib\\site-packages (from tqdm>=4.27->transformers) (0.4.6)\n"
     ]
    }
   ],
   "source": [
    "!pip install transformers requests beautifulsoup4 pandas numpy"
   ]
  },
  {
   "cell_type": "code",
   "execution_count": null,
   "id": "11213cb7",
   "metadata": {},
   "outputs": [],
   "source": []
  },
  {
   "cell_type": "code",
   "execution_count": 3,
   "id": "685bb327",
   "metadata": {},
   "outputs": [],
   "source": [
    "from transformers import AutoTokenizer, AutoModelForSequenceClassification\n",
    "import torch\n",
    "import requests\n",
    "from bs4 import BeautifulSoup\n",
    "import re"
   ]
  },
  {
   "cell_type": "code",
   "execution_count": 4,
   "id": "d67fd99e",
   "metadata": {},
   "outputs": [],
   "source": [
    "tokenizer = AutoTokenizer.from_pretrained('nlptown/bert-base-multilingual-uncased-sentiment')\n",
    "\n",
    "model = AutoModelForSequenceClassification.from_pretrained('nlptown/bert-base-multilingual-uncased-sentiment')"
   ]
  },
  {
   "cell_type": "code",
   "execution_count": null,
   "id": "cb0fa5cc",
   "metadata": {},
   "outputs": [],
   "source": []
  },
  {
   "cell_type": "code",
   "execution_count": 22,
   "id": "9e11743f",
   "metadata": {},
   "outputs": [],
   "source": [
    "tokens = tokenizer.encode('It was good but couldve been better. Great', return_tensors='pt')"
   ]
  },
  {
   "cell_type": "code",
   "execution_count": 23,
   "id": "69932108",
   "metadata": {},
   "outputs": [],
   "source": [
    "result = model(tokens)"
   ]
  },
  {
   "cell_type": "code",
   "execution_count": 24,
   "id": "559c5fd0",
   "metadata": {},
   "outputs": [
    {
     "data": {
      "text/plain": [
       "tensor([[-2.7768, -1.2353,  1.4419,  1.9804,  0.4584]],\n",
       "       grad_fn=<AddmmBackward0>)"
      ]
     },
     "execution_count": 24,
     "metadata": {},
     "output_type": "execute_result"
    }
   ],
   "source": [
    "result.logits"
   ]
  },
  {
   "cell_type": "code",
   "execution_count": 25,
   "id": "174c6c83",
   "metadata": {},
   "outputs": [
    {
     "data": {
      "text/plain": [
       "4"
      ]
     },
     "execution_count": 25,
     "metadata": {},
     "output_type": "execute_result"
    }
   ],
   "source": [
    "int(torch.argmax(result.logits))+1"
   ]
  },
  {
   "cell_type": "code",
   "execution_count": null,
   "id": "7bf654e5",
   "metadata": {},
   "outputs": [],
   "source": []
  },
  {
   "cell_type": "code",
   "execution_count": 39,
   "id": "f9267f6c",
   "metadata": {},
   "outputs": [],
   "source": [
    "r = requests.get('https://www.yelp.com/biz/four-chairs-san-francisco?osq=Restaurants')\n",
    "soup = BeautifulSoup(r.text, 'html.parser')\n",
    "regex = re.compile('.*comment.*')\n",
    "results = soup.find_all('p', {'class':regex})\n",
    "reviews = [result.text for result in results]"
   ]
  },
  {
   "cell_type": "code",
   "execution_count": 40,
   "id": "69dce6c8",
   "metadata": {},
   "outputs": [
    {
     "data": {
      "text/plain": [
       "[\"Great eggs benedict best I've had so far, freshly made orange juice not the carton stuff.\",\n",
       " \"My friend randomly picked this place and I must tell you, THIS IS THEEEE SPOT TO BE for breakfast and brunch. We were a bit shocked about the line on a Sunday noon but a quick glance inside explained everything. Luckily the wait was only 15-20min. This place is packed like crazy. The food is super good. Didn't get to try any (alcoholic) drinks but I'm sure those are fabulous as well.Staff is friendly and quick to serve you.\",\n",
       " 'Coffee volcano, YES please! A few things I love about this place:1. Potatoes are crisp, not soggy and oily 2. Portions are great. I hope they never skimp3. Coffee and matcha choices are deelishMy go to: Mascarpone pancakesLox omelette Coffee volcano',\n",
       " \"This restaurant is nestled in the mission and I stumbled across it on a random morning!Parking around this area is good, if you can't find anything on the street, there is a Safeway to park in need be. the restaurant definitely has a cozy feel to it. the service was fast and attentive food - 4/51. Spicy Korean Fried Eggs Benedict - this was bomb! the chicken was well marinated and it tied in well with the eggs and potatoes 2. Creme Brûlée French Toast - if you have a sweet tooth, this is the one for you. I loved the caramelized sugar on top to give it that creme brûlée traditional feel. The toast itself was fluffy and well seasoned. 3. Pancakes - they give you a good amount it's also on the sweeter side. I would just say this was average.\",\n",
       " \"Four Chairs was our final stop on our San Francisco trip, and it turned out to be the best brunch I've ever had in awhile! I ordered the mascarpone pancakes, which were simply delightful--the mascarpone was creamy and perfectly balanced, not too sweet, and the fresh fruits on top were a wonderful touch.My friend chose the two-egg breakfast with scrambled eggs and hickory smoked beef bacon, and she thoroughly enjoyed it. We also tried the matcha latte, which was excellent, and the volcano coffee, which is a must-try for any coffee lover.Overall, the atmosphere was warm and inviting, making for a fantastic brunch experience. If you're in San Francisco, Four Chairs is definitely worth a visit!\",\n",
       " 'Mascarpone pancakes - 3 super fluffy pancakes with vanilla mascarpone sandwiched in between each one, topped with bananas, berries, and powdered sugar. Sweet but not too sweet, it was delight to look at and eat.We came on a Friday late morning and the place was packed! We had to wait about 20 minutes before being seated.',\n",
       " \"We decided to try Four Chairs after seeing all the TikToks and positive reviews. We arrived at 11 a.m. on a Saturday morning, expecting a long wait, but were pleasantly surprised when it only took about 30 minutes to get seated.As I looked over the menu, I was a bit surprised that their famous breakfast items were sold a la carte. I was also disappointed that there wasn't an option to order just one pancake instead of a full stack, but I realize that was my oversight for not asking. We ordered their well-known mascarpone pancakes.The presentation was stunning, and the mascarpone was a perfect addition to the pancakes. However, the pancakes themselves were disappointing--they had the taste of dry pancake batter. It made me think that perhaps the mascarpone masks the actual flavor of the pancakes, or maybe I just caught them on a bad day. Honestly, I make better pancakes at home using store-bought Krusteaz mix. My husband enjoyed their chicken sandwich, but even that wasn't anything particularly special.If I were to return, I would probably try the eggs Benedict instead.\",\n",
       " \"Not a bad spot but it does get busy. I came here right when they opened but it seemed service was a bit lacking. They didn't ask us if we wanted any drinks, many workers walked past us and still no water even. I ordered the chicken and waffles and was confused why I received one cup of syrup and one empty cup. Turns out they forgot to give me sauce. I figured out after my friend went there and definitely had something in the second cup. The batter was good but it was lacking flavor. Perhaps because I didn't have the other sauce. I would probably come back to try other options.\",\n",
       " 'Just an update warning -- no espresso drinks here. You can get coffee \"drinks\" that are beautiful and tasty but no lattes. The drip coffee is very good though.',\n",
       " 'There are plenty of pictures of the incredibly Instagram worthy delectations available here. The more salient fact is that it is always extremely popular. I arrived 10 minutes after opening in a Saturday and it was mostly full EXCEPT for two person tables. Large groups be warned. So I was seated lickety split and immediately transfixed by the drinks delivered to my next table. All thoughts of a plain coffee vanished -- and I rarely go for elaborate drinks. The coffee volcano looked too fun(and there was a purple extravaganza worth chiming another time) And said volcano coffee was all thought it would be -- but it was stickier than I expected. Do try it. They also had the fries and I personally found the aroma of the bonito flakes unappealing but they polished them off. I really wanted to try a scramble -- and will another time -- but it seemed \"important\" to try either the creme brûlée French toast or mascarpone pancakes since I\\'d heard so much about them. The pancakes look like something from a food magazine AND they tasted great too. Not too terribly sweet either. I had a am chicken sausage ich it to cut the sweetness as well. It wasn\\'t a cheap brunch, but it was delicious AND I didn\\'t feel miserably full. Three cheers for the Four Chairs!',\n",
       " \"Had a catch-up brunch with some friends here and we've been wanting to check out Four Chairs for a while, so it was a no-brainer.  I got here about a half hour before my friends arrived, which ended up being perfect since that's about how long it took them to seat us (group of 4). They don't take reservations on weekends, so make sure you work in a wait time!When we sat down, the menu is through a QR code right on the table. I ended up splitting the K bomb Benedict and the creme brulee french toast with a friend. Both were delicious. I think if I come back, I'd definitely just get the Benedict all to myself! You can add soju to most drinks, which I did with my coffee. The servers were efficient but not pushy. The restaurant was a tad on the loud side, that's what you get when everyones having a good time.\"]"
      ]
     },
     "execution_count": 40,
     "metadata": {},
     "output_type": "execute_result"
    }
   ],
   "source": [
    "reviews"
   ]
  },
  {
   "cell_type": "code",
   "execution_count": null,
   "id": "8d4bdc28",
   "metadata": {},
   "outputs": [],
   "source": []
  },
  {
   "cell_type": "code",
   "execution_count": 41,
   "id": "99de448e",
   "metadata": {},
   "outputs": [],
   "source": [
    "import numpy as np\n",
    "import pandas as pd\n"
   ]
  },
  {
   "cell_type": "code",
   "execution_count": 42,
   "id": "4fdcf66f",
   "metadata": {},
   "outputs": [],
   "source": [
    "df = pd.DataFrame(np.array(reviews), columns=['review'])\n"
   ]
  },
  {
   "cell_type": "code",
   "execution_count": 43,
   "id": "669609eb",
   "metadata": {},
   "outputs": [
    {
     "data": {
      "text/plain": [
       "\"Great eggs benedict best I've had so far, freshly made orange juice not the carton stuff.\""
      ]
     },
     "execution_count": 43,
     "metadata": {},
     "output_type": "execute_result"
    }
   ],
   "source": [
    "df['review'].iloc[0]\n"
   ]
  },
  {
   "cell_type": "code",
   "execution_count": 44,
   "id": "d376b32c",
   "metadata": {},
   "outputs": [],
   "source": [
    "def sentiment_score(review):\n",
    "    tokens = tokenizer.encode(review, return_tensors='pt')\n",
    "    result = model(tokens)\n",
    "    return int(torch.argmax(result.logits))+1"
   ]
  },
  {
   "cell_type": "code",
   "execution_count": 45,
   "id": "bce9f578",
   "metadata": {},
   "outputs": [
    {
     "data": {
      "text/plain": [
       "5"
      ]
     },
     "execution_count": 45,
     "metadata": {},
     "output_type": "execute_result"
    }
   ],
   "source": [
    "sentiment_score(df['review'].iloc[1])"
   ]
  },
  {
   "cell_type": "code",
   "execution_count": 46,
   "id": "80fb29d4",
   "metadata": {},
   "outputs": [],
   "source": [
    "df['sentiment'] = df['review'].apply(lambda x: sentiment_score(x[:512]))"
   ]
  },
  {
   "cell_type": "code",
   "execution_count": 47,
   "id": "87025ec2",
   "metadata": {},
   "outputs": [
    {
     "data": {
      "text/html": [
       "<div>\n",
       "<style scoped>\n",
       "    .dataframe tbody tr th:only-of-type {\n",
       "        vertical-align: middle;\n",
       "    }\n",
       "\n",
       "    .dataframe tbody tr th {\n",
       "        vertical-align: top;\n",
       "    }\n",
       "\n",
       "    .dataframe thead th {\n",
       "        text-align: right;\n",
       "    }\n",
       "</style>\n",
       "<table border=\"1\" class=\"dataframe\">\n",
       "  <thead>\n",
       "    <tr style=\"text-align: right;\">\n",
       "      <th></th>\n",
       "      <th>review</th>\n",
       "      <th>sentiment</th>\n",
       "    </tr>\n",
       "  </thead>\n",
       "  <tbody>\n",
       "    <tr>\n",
       "      <th>0</th>\n",
       "      <td>Great eggs benedict best I've had so far, fres...</td>\n",
       "      <td>5</td>\n",
       "    </tr>\n",
       "    <tr>\n",
       "      <th>1</th>\n",
       "      <td>My friend randomly picked this place and I mus...</td>\n",
       "      <td>5</td>\n",
       "    </tr>\n",
       "    <tr>\n",
       "      <th>2</th>\n",
       "      <td>Coffee volcano, YES please! A few things I lov...</td>\n",
       "      <td>4</td>\n",
       "    </tr>\n",
       "    <tr>\n",
       "      <th>3</th>\n",
       "      <td>This restaurant is nestled in the mission and ...</td>\n",
       "      <td>4</td>\n",
       "    </tr>\n",
       "    <tr>\n",
       "      <th>4</th>\n",
       "      <td>Four Chairs was our final stop on our San Fran...</td>\n",
       "      <td>5</td>\n",
       "    </tr>\n",
       "    <tr>\n",
       "      <th>5</th>\n",
       "      <td>Mascarpone pancakes - 3 super fluffy pancakes ...</td>\n",
       "      <td>4</td>\n",
       "    </tr>\n",
       "    <tr>\n",
       "      <th>6</th>\n",
       "      <td>We decided to try Four Chairs after seeing all...</td>\n",
       "      <td>4</td>\n",
       "    </tr>\n",
       "    <tr>\n",
       "      <th>7</th>\n",
       "      <td>Not a bad spot but it does get busy. I came he...</td>\n",
       "      <td>3</td>\n",
       "    </tr>\n",
       "    <tr>\n",
       "      <th>8</th>\n",
       "      <td>Just an update warning -- no espresso drinks h...</td>\n",
       "      <td>3</td>\n",
       "    </tr>\n",
       "    <tr>\n",
       "      <th>9</th>\n",
       "      <td>There are plenty of pictures of the incredibly...</td>\n",
       "      <td>2</td>\n",
       "    </tr>\n",
       "    <tr>\n",
       "      <th>10</th>\n",
       "      <td>Had a catch-up brunch with some friends here a...</td>\n",
       "      <td>4</td>\n",
       "    </tr>\n",
       "  </tbody>\n",
       "</table>\n",
       "</div>"
      ],
      "text/plain": [
       "                                               review  sentiment\n",
       "0   Great eggs benedict best I've had so far, fres...          5\n",
       "1   My friend randomly picked this place and I mus...          5\n",
       "2   Coffee volcano, YES please! A few things I lov...          4\n",
       "3   This restaurant is nestled in the mission and ...          4\n",
       "4   Four Chairs was our final stop on our San Fran...          5\n",
       "5   Mascarpone pancakes - 3 super fluffy pancakes ...          4\n",
       "6   We decided to try Four Chairs after seeing all...          4\n",
       "7   Not a bad spot but it does get busy. I came he...          3\n",
       "8   Just an update warning -- no espresso drinks h...          3\n",
       "9   There are plenty of pictures of the incredibly...          2\n",
       "10  Had a catch-up brunch with some friends here a...          4"
      ]
     },
     "execution_count": 47,
     "metadata": {},
     "output_type": "execute_result"
    }
   ],
   "source": [
    "df"
   ]
  },
  {
   "cell_type": "code",
   "execution_count": 48,
   "id": "ec1da405",
   "metadata": {},
   "outputs": [
    {
     "data": {
      "text/plain": [
       "\"This restaurant is nestled in the mission and I stumbled across it on a random morning!Parking around this area is good, if you can't find anything on the street, there is a Safeway to park in need be. the restaurant definitely has a cozy feel to it. the service was fast and attentive food - 4/51. Spicy Korean Fried Eggs Benedict - this was bomb! the chicken was well marinated and it tied in well with the eggs and potatoes 2. Creme Brûlée French Toast - if you have a sweet tooth, this is the one for you. I loved the caramelized sugar on top to give it that creme brûlée traditional feel. The toast itself was fluffy and well seasoned. 3. Pancakes - they give you a good amount it's also on the sweeter side. I would just say this was average.\""
      ]
     },
     "execution_count": 48,
     "metadata": {},
     "output_type": "execute_result"
    }
   ],
   "source": [
    "df['review'].iloc[3]"
   ]
  },
  {
   "cell_type": "markdown",
   "id": "f352a215",
   "metadata": {},
   "source": []
  }
 ],
 "metadata": {
  "kernelspec": {
   "display_name": "Python 3 (ipykernel)",
   "language": "python",
   "name": "python3"
  },
  "language_info": {
   "codemirror_mode": {
    "name": "ipython",
    "version": 3
   },
   "file_extension": ".py",
   "mimetype": "text/x-python",
   "name": "python",
   "nbconvert_exporter": "python",
   "pygments_lexer": "ipython3",
   "version": "3.9.7"
  }
 },
 "nbformat": 4,
 "nbformat_minor": 5
}
